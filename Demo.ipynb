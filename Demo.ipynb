{
 "cells": [
  {
   "cell_type": "markdown",
   "id": "180cac4a",
   "metadata": {},
   "source": [
    "## Overview"
   ]
  },
  {
   "cell_type": "code",
   "execution_count": 1,
   "id": "4234e9e4",
   "metadata": {},
   "outputs": [
    {
     "name": "stderr",
     "output_type": "stream",
     "text": [
      "/Users/grant/karoo_2/karoo_gp/solver.py:58: RuntimeWarning: overflow encountered in power\n",
      "  return self.operators[type(node.op)](\n"
     ]
    },
    {
     "data": {
      "text/plain": [
       "<Tree: '0.2*pl**2/sw ...' fitness: 37.33>"
      ]
     },
     "execution_count": 1,
     "metadata": {},
     "output_type": "execute_result"
    }
   ],
   "source": [
    "#0. Load training set\n",
    "import pandas as pd\n",
    "train_data = pd.read_csv('datasets/iris.csv')\n",
    "train_labels = train_data.pop('s')\n",
    "\n",
    "# 1. Import\n",
    "from karoo_gp import Terminals, Operators, Model\n",
    "\n",
    "#2. Initialize Operators and Terminals\n",
    "operators = Operators.arithmetic()\n",
    "terminals = Terminals(train_data.keys(), constants=[.1, .2, .3, .4, .5])\n",
    "\n",
    "#3. Initialize Model\n",
    "model = Model(operators, terminals)\n",
    "\n",
    "#4. Train Model\n",
    "model.train(train_data, train_labels)\n",
    "\n",
    "#5. Inspect\n",
    "model.fittest()"
   ]
  },
  {
   "cell_type": "markdown",
   "id": "80443a72",
   "metadata": {},
   "source": [
    "## Classes Detail\n",
    "\n",
    "### Heirarchy\n",
    "```\n",
    "Model\n",
    "|-Solver\n",
    "|-Population\n",
    "   |-Terminals\n",
    "   |  |-Terminal\n",
    "   |\n",
    "   |-Operators\n",
    "   |  |-Operator\n",
    "   |\n",
    "   |-Trees\n",
    "      |-Branch\n",
    "         |-Operator/Terminal\n",
    "         |-Branch (recursive)\n",
    "```\n"
   ]
  },
  {
   "cell_type": "markdown",
   "id": "280a08de",
   "metadata": {},
   "source": [
    "### Operator\n",
    "- A tree node/gene which is an instruction\n",
    "  \n",
    "### Operators\n",
    "- An Operator set\n",
    "- Initialize from a list `Operator(['+', '-'])` or with constructor `Operator.logic()`\n",
    "- Access elements with `op.get()`"
   ]
  },
  {
   "cell_type": "code",
   "execution_count": 2,
   "id": "21db47ec",
   "metadata": {},
   "outputs": [
    {
     "name": "stdout",
     "output_type": "stream",
     "text": [
      "<Operator: +(arithmetic)>\n",
      "+ arithmetic 2\n",
      "<Operators: 5(+-*/**)>\n",
      "[<Operator: +(arithmetic)>, <Operator: -(arithmetic)>, <Operator: *(arithmetic)>, <Operator: /(arithmetic)>, <Operator: **(arithmetic)>]\n",
      "<Operator: /(arithmetic)>\n"
     ]
    }
   ],
   "source": [
    "from karoo_gp import Operator\n",
    "\n",
    "# Instantiate a single element\n",
    "op = Operator('+')\n",
    "print(op)\n",
    "print(op.symbol, op.op_type, op.arity)\n",
    "\n",
    "from karoo_gp import Operators\n",
    "\n",
    "# Generate a pre-loaded set\n",
    "ops = Operators.arithmetic() # .logic() .math()\n",
    "print(ops)\n",
    "print(ops.get())\n",
    "\n",
    "# Generate a custom set\n",
    "ops = Operators(['*', '/'])\n",
    "print(ops.operators[-1])"
   ]
  },
  {
   "cell_type": "markdown",
   "id": "590882e0",
   "metadata": {},
   "source": [
    "### Terminal\n",
    "- A tree node/gene which is a variable or constant\n",
    "  \n",
    "### Terminals\n",
    "- An Terminal set\n",
    "- Initialize with list of terminals & optional list of constants\n",
    "- Access elements with `term.get()`"
   ]
  },
  {
   "cell_type": "code",
   "execution_count": 3,
   "id": "c92319b7",
   "metadata": {},
   "outputs": [
    {
     "name": "stdout",
     "output_type": "stream",
     "text": [
      "<Terminal: a(<class 'float'>)>\n",
      "a <class 'float'>\n",
      "<Terminals: 4(ab, 12)>\n",
      "<Terminal: a(<class 'float'>)>\n",
      "<Terminal: 1(<class 'int'>)>\n",
      "[<Terminal: a(<class 'float'>)> <Terminal: b(<class 'float'>)>\n",
      " <Terminal: 1(<class 'int'>)> <Terminal: 2(<class 'int'>)>]\n"
     ]
    }
   ],
   "source": [
    "from karoo_gp import Terminal, Terminals\n",
    "\n",
    "term = Terminal('a')\n",
    "print(term)\n",
    "print(term.symbol, term.t_type)\n",
    "\n",
    "terms = Terminals(['a', 'b'], constants=[1, 2])\n",
    "print(terms)\n",
    "print(terms.variables['a'])\n",
    "print(terms.constants[0])\n",
    "print(terms.get())"
   ]
  },
  {
   "cell_type": "markdown",
   "id": "12403c26",
   "metadata": {},
   "source": [
    "### Branch\n",
    "- Contains 1 node (Operator or Terminal) & optional parent, children\n",
    "- Recursive methods: `generate()`, `parse()`, `n_children()`, `get_child()`, `mutate()` ..."
   ]
  },
  {
   "cell_type": "code",
   "execution_count": 4,
   "id": "99c9e44e",
   "metadata": {},
   "outputs": [
    {
     "name": "stdout",
     "output_type": "stream",
     "text": [
      "<Branch: <Operator: +(arithmetic)>>\n",
      "0.2+0.2-0.2*c+a\n",
      "8\n",
      "0.2+0.2-0.2*c-a\n",
      "0.2+0.2-0.2*0.3-a\n"
     ]
    }
   ],
   "source": [
    "from karoo_gp import Operators, Terminals, Branch\n",
    "import numpy as np\n",
    "\n",
    "rng = np.random.RandomState(1111)\n",
    "operators = Operators(['+', '-', '*', '/'])\n",
    "terminals = Terminals(['a', 'b', 'c'], constants=[.1, .2, .3])\n",
    "tree_type = 'g'\n",
    "depth = 3\n",
    "branch = Branch.generate(rng, operators, terminals, tree_type=tree_type, depth=depth)\n",
    "print(branch)\n",
    "print(branch.parse())\n",
    "print(branch.n_children())\n",
    "\n",
    "branch.mutate(rng, operators, terminals, recursive=False)\n",
    "print(branch.parse())\n",
    "\n",
    "random_child = rng.randint(1, branch.n_children())\n",
    "child, _ = branch.get_child(random_child)\n",
    "child.mutate(rng, operators, terminals, recursive=True)\n",
    "print(branch.parse())"
   ]
  },
  {
   "cell_type": "markdown",
   "id": "37e37aab",
   "metadata": {},
   "source": [
    "### Tree\n",
    "- A wrapper a root branch of arbitrary depth\n",
    "- Attributes:\n",
    "  - root (Branch)\n",
    "  - fitness (float)\n",
    "- Methods:\n",
    "  - Initialize: `generate()`, `save()`, `load()`\n",
    "  - Display: `parse()`, `sym()`, `depth()`\n",
    "  - Evolve: `point_mutate`, `full_mutate`, `crossover`"
   ]
  },
  {
   "cell_type": "code",
   "execution_count": 5,
   "id": "848bfced",
   "metadata": {},
   "outputs": [
    {
     "name": "stdout",
     "output_type": "stream",
     "text": [
      "<Tree: '0.8 - b'>\n",
      "0.8 - b\n",
      "4\n",
      "0.3*b/0.1*0.1/b+0.2+0.3-b\n",
      "0.3/b/0.1*0.1/b+0.2+0.3-b\n",
      "0.3/b/c*0.1/b+0.2+0.3-b\n",
      "0.2+0.3-b*0.1+0.1+b*a*c\n",
      "0.1/b/c*0.1/b+0.2+0.3-b\n"
     ]
    }
   ],
   "source": [
    "from karoo_gp import Operators, Terminals, Tree\n",
    "\n",
    "rng = np.random.RandomState(12)\n",
    "operators = Operators(['+', '-', '*', '/'])\n",
    "terminals = Terminals(['a', 'b', 'c'], constants=[.1, .2, .3])\n",
    "params = {'depth': 3, 'tree_type': 'f'}\n",
    "tree = Tree.generate(rng, operators, terminals, params)\n",
    "\n",
    "# Display methods\n",
    "print(tree)\n",
    "print(tree.sym())\n",
    "print(tree.depth())\n",
    "print(tree.parse())\n",
    "\n",
    "# Mutate one node or one sub-branch\n",
    "tree.point_mutate(rng, operators, terminals)\n",
    "print(tree.parse())\n",
    "tree.full_mutate(rng, operators, terminals)\n",
    "print(tree.parse())\n",
    "\n",
    "# Crossover with another tree\n",
    "mate = Tree.generate(rng, operators, terminals, params)\n",
    "print(mate.parse())\n",
    "offspring = tree.crossover(rng, mate)\n",
    "print(offspring.parse())"
   ]
  },
  {
   "cell_type": "markdown",
   "id": "acb8c707",
   "metadata": {},
   "source": [
    "### Population\n",
    "- A wrapper for a group of Trees\n",
    "- 'Layer' methods: `fitness`, `tournament`, `evolve`, `cull`"
   ]
  },
  {
   "cell_type": "code",
   "execution_count": 6,
   "id": "bf8941ff",
   "metadata": {},
   "outputs": [
    {
     "name": "stdout",
     "output_type": "stream",
     "text": [
      "<Population: 100 trees>\n",
      "<Operators: 4(+-*/)> <Terminals: 6(abc, 0.10.)>\n",
      "100 <Tree: '0.1 - 0.66666...'>\n",
      "63\n",
      "<Tree: '0.3*c - 0.14' fitness: 47.17>\n",
      "<Tree: '0.03*c' fitness: 137.48>\n",
      "<Tree: '0.01*a*c**2' fitness: 41.54>\n"
     ]
    }
   ],
   "source": [
    "from karoo_gp import Operators, Terminals, Population, NumpySolver\n",
    "\n",
    "train_data = pd.read_csv('datasets/iris.csv')\n",
    "train_labels = train_data.pop('s')\n",
    "\n",
    "rng = np.random.RandomState(12)\n",
    "operators = Operators(['+', '-', '*', '/'])\n",
    "terminals = Terminals(['a', 'b', 'c'], constants=[.1, .2, .3])\n",
    "params = {'population_size': 100, \n",
    "          'criteria': 'fitness', \n",
    "          'depth': 3, \n",
    "          'tree_type': 'g'}\n",
    "\n",
    "# Initialize\n",
    "population = Population.generate(rng, operators, terminals, params)\n",
    "print(population)\n",
    "print(population.operators, population.terminals)\n",
    "print(len(population.trees), population.trees[0])\n",
    "\n",
    "# Evolve\n",
    "solver = NumpySolver()\n",
    "population.cull(min_nodes=8, max_depth=5)  # cull: remove unfit trees\n",
    "print(len(population.trees))\n",
    "population.fitness(solver, train_data, train_labels)  # fitness: score trees against data\n",
    "print(population.trees[0])\n",
    "print(population.tournament(rng, tournament_size=7))\n",
    "population.evolve(rng, tournament_size=7)  # evolve: create new generation from trees\n",
    "population.cull(min_nodes=8, max_depth=5)\n",
    "population.fitness(solver, train_data, train_labels)\n",
    "print(population.trees[0])"
   ]
  },
  {
   "cell_type": "markdown",
   "id": "3e654edf",
   "metadata": {},
   "source": [
    "### Model\n",
    "- Methods:\n",
    "  - `train()` - compile params into layers, pass to process\n",
    "  - `process()` - execute a list of layers on population\n",
    "  - `fittest()` - return the best-performing tree"
   ]
  },
  {
   "cell_type": "code",
   "execution_count": 7,
   "id": "9a2ce5aa",
   "metadata": {
    "scrolled": true
   },
   "outputs": [
    {
     "name": "stdout",
     "output_type": "stream",
     "text": [
      "<Model: <Population: 100 trees> Fittest: <Tree: '-3*pl/pw + 1 ...'>>\n",
      "<Population: 100 trees>\n",
      "<Tree: '-3*pl/pw + 1 ...'>\n",
      "<Tree: 'pw' fitness: 39.9>\n",
      "<Tree: 'pw**2/2' fitness: 36.04>\n"
     ]
    }
   ],
   "source": [
    "from karoo_gp import Operators, Terminals, Model\n",
    "import pandas as pd\n",
    "\n",
    "train_data = pd.read_csv('datasets/iris.csv')\n",
    "train_labels = train_data.pop('s')\n",
    "\n",
    "operators = Operators(['+', '-', '*', '/'])\n",
    "terminals = Terminals(train_data.keys(), constants=[1, 2, 3])\n",
    "params = {'depth': 3,\n",
    "          'tree_type': 'r',\n",
    "          'population_size': 100,\n",
    "          'criteria': 'fitness'}\n",
    "    \n",
    "# Initialize a model\n",
    "model = Model(operators, terminals, params=params, solver='numpy', seed=1234)\n",
    "print(model)\n",
    "print(model.population)\n",
    "print(model.fittest())\n",
    "\n",
    "# Train against dataset\n",
    "params = dict(generations=3,\n",
    "              tournament_size=7,\n",
    "              min_nodes=5,\n",
    "              max_depth=5)\n",
    "model.train(train_data, train_labels, **params)\n",
    "print(model.fittest())\n",
    "\n",
    "# Process custom layers\n",
    "layers = [('evolve', (model.rng, params['tournament_size'])),\n",
    "          ('cull', (params['min_nodes'], params['max_depth'])),\n",
    "          ('fitness', (model.solver, train_data, train_labels))]\n",
    "model.process(layers)\n",
    "print(model.fittest())"
   ]
  },
  {
   "cell_type": "markdown",
   "id": "30b87b20",
   "metadata": {},
   "source": [
    "## Playground"
   ]
  },
  {
   "cell_type": "code",
   "execution_count": 9,
   "id": "4db1cc05",
   "metadata": {},
   "outputs": [
    {
     "name": "stdout",
     "output_type": "stream",
     "text": [
      "Initialized model in 0.28646s\n",
      "Gen 10: 3.91657s: <Tree: '-2*meaconpoi ...' fitness: 164.29>\n",
      "Gen 20: 3.20326s: <Tree: '-2*meaconpoi ...' fitness: 150.03>\n",
      "Gen 30: 3.21846s: <Tree: '-3*meaconpoi ...' fitness: 148.69>\n",
      "Cache size: 0.073816 mb\n",
      "Fittest: 0.2-meaconpoi-worcon+0.4-meaconpoi+0.4+measym-meaconpoi\n"
     ]
    },
    {
     "data": {
      "text/latex": [
       "$\\displaystyle - 3 meaconpoi + measym - worcon + 1.0$"
      ],
      "text/plain": [
       "-3*meaconpoi + measym - worcon + 1.0"
      ]
     },
     "execution_count": 9,
     "metadata": {},
     "output_type": "execute_result"
    }
   ],
   "source": [
    "import sys, time\n",
    "import pandas as pd\n",
    "from karoo_gp import Terminals, Operators, Model\n",
    "\n",
    "\n",
    "# Helper\n",
    "last_time = time.perf_counter()\n",
    "def _log_time():\n",
    "    global last_time\n",
    "    now = time.perf_counter()\n",
    "    delta = round(now-last_time, 5)\n",
    "    last_time = now\n",
    "    return delta\n",
    "\n",
    "\n",
    "# Load Data\n",
    "train_data = pd.read_csv('datasets/cancer.csv')\n",
    "# train_data = pd.read_csv('datasets/data_kepler.csv')\n",
    "# train_data = pd.read_csv('datasets/diabetes.csv')\n",
    "# train_data = pd.read_csv('datasets/iris.csv')\n",
    "# train_data = pd.read_csv('datasets/wine.csv')\n",
    "train_labels = train_data.pop('s')\n",
    "operators = Operators(['+', '-', '*', '/'])\n",
    "terminals = Terminals(train_data.keys(), constants=[.1, .2, .3, .4, .5])\n",
    "\n",
    "\n",
    "# Initialize Model\n",
    "params = dict(depth=5,\n",
    "              tree_type='r',\n",
    "              population_size=100,\n",
    "              criteria='fitness')\n",
    "model = Model(operators, terminals, params, solver='Numpy', seed=666)\n",
    "print(f\"Initialized model in {_log_time()}s\")\n",
    "\n",
    "\n",
    "# Train\n",
    "evolution_params = dict(duplicate=0.1,\n",
    "                        point_mutate=0.1,\n",
    "                        branch_mutate=0.2,\n",
    "                        crossover=0.6)\n",
    "params = dict(generations=10,\n",
    "              tournament_size=7,\n",
    "              min_nodes=5,\n",
    "              max_depth=7,\n",
    "              evolution_params=evolution_params)\n",
    "for i in range(3):\n",
    "    model.train(train_data, train_labels, **params)\n",
    "    print(f\"Gen {(i+1)*params['generations']}: {_log_time()}s: {model.fittest()}\")\n",
    "\n",
    "    \n",
    "# Summarize    \n",
    "print(\"Cache size:\", sys.getsizeof(model.solver.cache)/1e6, 'mb')\n",
    "print(\"Fittest:\", model.fittest().parse())\n",
    "model.fittest().sym()"
   ]
  },
  {
   "cell_type": "code",
   "execution_count": null,
   "id": "9c5c09e8",
   "metadata": {},
   "outputs": [],
   "source": []
  }
 ],
 "metadata": {
  "kernelspec": {
   "display_name": "Python 3 (ipykernel)",
   "language": "python",
   "name": "python3"
  },
  "language_info": {
   "codemirror_mode": {
    "name": "ipython",
    "version": 3
   },
   "file_extension": ".py",
   "mimetype": "text/x-python",
   "name": "python",
   "nbconvert_exporter": "python",
   "pygments_lexer": "ipython3",
   "version": "3.9.7"
  }
 },
 "nbformat": 4,
 "nbformat_minor": 5
}
